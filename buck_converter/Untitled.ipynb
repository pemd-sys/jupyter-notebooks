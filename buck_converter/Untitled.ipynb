{
 "cells": [
  {
   "cell_type": "markdown",
   "id": "86269759",
   "metadata": {},
   "source": [
    " <h1 style=\"text-align: center;\">Buck Converter Design Sheet</h1>"
   ]
  },
  {
   "cell_type": "markdown",
   "id": "8c197d77",
   "metadata": {},
   "source": [
    "This report gives the formulas/design sheet to calculate the power stage of a buck converter operating in continuous conduction mode. A Typical buck converter schematic is shown below."
   ]
  },
  {
   "cell_type": "markdown",
   "id": "f0e05ed5",
   "metadata": {},
   "source": [
    "<p align=\"center\">\n",
    "  <img src=\"buck_converter_schematic.png\" />\n",
    "</p>\n"
   ]
  },
  {
   "cell_type": "markdown",
   "id": "2cc238a3",
   "metadata": {},
   "source": [
    "### Necessary Parameters for power stage \n",
    "1. Input voltage range: VIN(min) and VIN(max)\n",
    "2. Nominal output voltage: VOUT\n",
    "3. Maximum output current: IOUT(max)"
   ]
  },
  {
   "cell_type": "markdown",
   "id": "0006cb57",
   "metadata": {},
   "source": [
    "### Calculate the Maximum Switch current\n",
    "The first step is to calculate the duty cycle D of the converter for the maximum input voltage. The maximum input voltage is used because it leads to maximum switch current.\n",
    "\n",
    "$$\n",
    "Maximum\\ Duty\\ Cycle\\ :\\ D =\\frac{V_{out}}{V_{IN(max)}*\\eta} \\\\\n",
    "$$\n",
    "\n",
    "Where,\n",
    " - $V_{out}$ is the output voltage\n",
    " - $V_{IN(max)}$ is the maximum input voltage\n",
    " - $\\eta$ is the assumed efficiency of the converter"
   ]
  },
  {
   "cell_type": "markdown",
   "id": "fc2beab9",
   "metadata": {},
   "source": [
    "The next step in calculating the maximum switch current is to determine the inductor ripple current. The following equation is a good estimation for the right inductor.\n",
    "\n",
    "$$\n",
    "L = \\frac{V_{OUT}*(V_{IN}-V_{OUT})}{\\Delta I_L*f_s*V_{IN}}\n",
    "$$\n",
    "\n",
    "Where,\n",
    " - $V_{IN}$ is the typical input voltage\n",
    " - $V_{OUT}$ is the desired output voltage\n",
    " - $f_s$ is the minimum switching frequency of the converter\n",
    " - $\\Delta I_L$ is the estimated ripple current - Assume 10-20% of the output current"
   ]
  },
  {
   "cell_type": "markdown",
   "id": "c9f3064b",
   "metadata": {},
   "source": [
    "\\begin{equation}\n",
    "(a+b)^{2} = a^{2}+2ab+b^{2}\n",
    "\\end{equation}"
   ]
  },
  {
   "cell_type": "markdown",
   "id": "b8924cac",
   "metadata": {},
   "source": [
    "\\begin{equation*}\n",
    "\\mathbf{r} \\equiv \\begin{bmatrix}\n",
    "y \\\\\n",
    "\\theta\n",
    "\\end{bmatrix}\n",
    "\\label{eq:vector_ray} \\tag{1}\n",
    "\\end{equation*}\n",
    "\n",
    "Vector **r** is defined by equation $\\eqref{eq:vector_ray}$\n"
   ]
  },
  {
   "cell_type": "code",
   "execution_count": null,
   "id": "716f87f7",
   "metadata": {},
   "outputs": [],
   "source": []
  }
 ],
 "metadata": {
  "kernelspec": {
   "display_name": "Python 3 (ipykernel)",
   "language": "python",
   "name": "python3"
  },
  "language_info": {
   "codemirror_mode": {
    "name": "ipython",
    "version": 3
   },
   "file_extension": ".py",
   "mimetype": "text/x-python",
   "name": "python",
   "nbconvert_exporter": "python",
   "pygments_lexer": "ipython3",
   "version": "3.10.12"
  }
 },
 "nbformat": 4,
 "nbformat_minor": 5
}
