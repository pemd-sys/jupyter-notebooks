{
 "cells": [
  {
   "cell_type": "markdown",
   "metadata": {},
   "source": [
    " <h1 style=\"text-align: center;\">Buck Converter Basics</h1>"
   ]
  },
  {
   "cell_type": "markdown",
   "metadata": {},
   "source": [
    "The buck converter is a simple power electronics converter for reducing the dc voltage, using only non dissipative switches, inductors, and capacitors. The output voltage is not isolated i.e., the input and the output share a common terminal (DC-). \n",
    "\n",
    "The switch produces a rectangular waveform vs(t) as illustrated below. The voltage vs(t) is equal to the dc input voltage Vg when the switch is in position 1, and is equal to zero when the switch is in position 2. \n",
    "\n",
    "The switching frequency fs, equal to the inverse of the switching period Ts, generally lies in the range of 1 kHz–1 MHz, depending on the switching speed of the semiconductor devices. Some integrated switch buck converter offerings from TI goes even higher to 2.5 MHz.\n"
   ]
  },
  {
   "cell_type": "markdown",
   "metadata": {},
   "source": [
    "<p align=\"center\">\n",
    "  <img src=\"buck_circuit_mak.png\" width=\"50%\">\n",
    "</p>\n"
   ]
  },
  {
   "cell_type": "markdown",
   "metadata": {},
   "source": [
    "The voltage $v_s(t)$ can be written within the time interval $(0,T_s)$ as,\n",
    "\n",
    "\\begin{equation}\n",
    "v_s(t) = \\begin{cases}\n",
    "    V_g,& \\text{if } t\\leq DT_s\\\\\n",
    "    0,              & \\text{otherwise}\n",
    "\\end{cases}\n",
    "\\end{equation}\n",
    "\n",
    "From Fourier analysis, we know that the dc component of $v_s(t)$ is given by its average value $\\langle V_s \\rangle$, or,\n",
    "\n",
    "\\begin{equation*}\n",
    "\\begin{split}\n",
    "\\langle V_s \\rangle &= \\frac{1}{T_s} \\int_{0}^{T_s} v_s(t) dt \\\\\n",
    "\\langle V_s \\rangle &= \\frac{V_g*D*T_s}{T_s} = D*V_g\n",
    "\\end{split}\n",
    "\\end{equation*}\n",
    "\n",
    "\n"
   ]
  },
  {
   "cell_type": "markdown",
   "metadata": {},
   "source": [
    "### Inductor Volt-Second Balance, Capacitor Charge Balance, and the Small-Ripple Approximation\n",
    "The buck converter output LC filter, attenuates out most of the harmonics generated as a result of switching, as its not an ideal filter some small amount of high frequency harmonics remain in the output voltage. The output voltage can therefore be expressed as, \n",
    "\n",
    "\\begin{equation}\n",
    "v(t) = V + v_{ripple}(t)\n",
    "\\end{equation}\n",
    "\n",
    "So the actual voltage comprises of a DC component and an AC ripple component. Its always a good approximation to assume the magnitude of the switching ripple is much smaller than the dc component:\n",
    "\n",
    "\\begin{equation}\n",
    "\\|v_{ripple}(t)\\| \\ll V\n",
    "\\end{equation}\n",
    "\n",
    "Therefore, the output voltage $v(t)$ is well approximated by its dc component $V$, with the small ripple term $v_{ripple}(t)$ neglected:\n",
    "\\begin{equation}\n",
    "v(t) \\approx V\n",
    "\\end{equation}\n",
    "This approximation, known as the small-ripple approximation, or the linear-ripple approximation, greatly simplifies the analysis of the converter waveforms. "
   ]
  }
 ],
 "metadata": {
  "kernelspec": {
   "display_name": "Python 3 (ipykernel)",
   "language": "python",
   "name": "python3"
  },
  "language_info": {
   "codemirror_mode": {
    "name": "ipython",
    "version": 3
   },
   "file_extension": ".py",
   "mimetype": "text/x-python",
   "name": "python",
   "nbconvert_exporter": "python",
   "pygments_lexer": "ipython3",
   "version": "3.10.12"
  }
 },
 "nbformat": 4,
 "nbformat_minor": 2
}
