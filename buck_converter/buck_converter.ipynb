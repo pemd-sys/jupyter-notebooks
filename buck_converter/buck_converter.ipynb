{
 "cells": [
  {
   "cell_type": "markdown",
   "id": "86269759",
   "metadata": {},
   "source": [
    " <h1 style=\"text-align: center;\">Buck Converter Design Sheet</h1>"
   ]
  },
  {
   "cell_type": "markdown",
   "id": "8c197d77",
   "metadata": {},
   "source": [
    "This report gives the formulas/design sheet to calculate the power stage of a buck converter operating in continuous conduction mode. A Typical buck converter schematic is shown below."
   ]
  },
  {
   "cell_type": "markdown",
   "id": "f0e05ed5",
   "metadata": {},
   "source": [
    "<p align=\"center\">\n",
    "  <img src=\"buck_converter_schematic.png\" />\n",
    "</p>\n"
   ]
  },
  {
   "cell_type": "markdown",
   "id": "2cc238a3",
   "metadata": {},
   "source": [
    "### Necessary Parameters for power stage \n",
    "1. Input voltage range: VIN(min) and VIN(max)\n",
    "2. Nominal output voltage: VOUT\n",
    "3. Maximum output current: IOUT(max)"
   ]
  },
  {
   "cell_type": "markdown",
   "id": "0006cb57",
   "metadata": {},
   "source": [
    "### Calculate the Maximum Switch current\n",
    "The first step is to calculate the duty cycle D of the converter for the maximum input voltage. The maximum input voltage is used because it leads to maximum switch current.\n",
    "\n",
    "$$\n",
    "Maximum\\ Duty\\ Cycle\\ :\\ D =\\frac{V_{out}}{V_{IN(max)}*\\eta} \\\\\n",
    "$$\n",
    "\n",
    "Where,\n",
    " - $V_{out}$ is the output voltage\n",
    " - $V_{IN(max)}$ is the maximum input voltage\n",
    " - $\\eta$ is the assumed efficiency of the converter"
   ]
  },
  {
   "cell_type": "markdown",
   "id": "fc2beab9",
   "metadata": {},
   "source": [
    "The next step in calculating the maximum switch current is to determine the inductor ripple current. The following equation is a good estimation for the right inductor.\n",
    "\n",
    "$$\n",
    "L = \\frac{V_{OUT}*(V_{IN}-V_{OUT})}{\\Delta I_L*f_s*V_{IN}}\n",
    "$$\n",
    "\n",
    "Where,\n",
    " - $V_{IN}$ is the typical input voltage\n",
    " - $V_{OUT}$ is the desired output voltage\n",
    " - $f_s$ is the minimum switching frequency of the converter\n",
    " - $\\Delta I_L$ is the estimated ripple current - Assume 10-20% of the output current"
   ]
  },
  {
   "cell_type": "markdown",
   "id": "d84d9e5c",
   "metadata": {},
   "source": [
    "### Rectifier Diode Selection\n",
    "The forward current rating of the diode is needed to be equal to the maximum  output current.\n",
    "\n",
    "\\begin{equation*}\n",
    "I_F = I_{OUT(max)}*(1-D)\n",
    "\\end{equation*}\n",
    "\n",
    "Where,\n",
    " - $I_F$ = average forward current of the rectifier diode\n",
    " - $I_{OUT(max)}$ = maximum output current\n",
    " Schottky diodes have a much higher peak current rating than average rating. Therefore the higher peak current in the system should not be a problem.\n",
    "\n",
    " The other thing to check is the power dissipation of the diode\n",
    "\n",
    " \\begin{equation*}\n",
    " P_d = I_F*V_F*D\n",
    " \\end{equation*}\n",
    "\n",
    " $I_F$ = average forward current of the reciever diode\n",
    " $V_F$ = forward voltage of the rectifier diode\n",
    " $D$ = Duty Cycle of the converter\n",
    "\n",
    " \n",
    "\n"
   ]
  },
  {
   "cell_type": "markdown",
   "id": "073fc1bd",
   "metadata": {},
   "source": [
    "### output capacitor selection\n",
    "The best practice is to use low ESR capacitors to minimise the ripple on the output voltage. Ceramic capacitors are a good choice if the dielectric material is X5R or better.\n",
    "The following equations can be used to adjust the output capacitor values for a desired output voltage ripple:\n",
    "\\begin{equation*}\n",
    "C_{OUT(min)} = \\frac{\\Delta I_L}{8*f_s*\\Delta V_{OUT}}\n",
    "\\end{equation*}\n",
    "\n",
    " - $C_{OUT(min)}$ = minimum output capacitance\n",
    " - $\\Delta I_L$ = estimated inductor ripple current\n",
    " - $f_S$ = minimum switching frequency of the converter\n",
    " - $\\Delta V_{OUT}$ = desired output voltage ripple\n",
    "\n",
    "\n",
    "The ESR of the output capacitor adds some more ripple, given with the equation:\n",
    "\\begin{equation*}\n",
    "\\Delta V_{OUT(ESR)} = ESR * \\Delta I_L\n",
    "\\end{equation*}\n",
    "\n",
    " - $\\Delta V_{OUT(ESR)}$ = additional output voltage ripple due to capacitors ESR\n",
    " - $ESR$ = equivalent series resistance of the used output capacitor\n",
    " - $\\Delta I_L$ = inductor ripple current\n",
    "\n",
    " Often the selection of the output capacitor is not driven by the steady-state ripple, but by the output transient response. The output voltage deviation is caused by the time it takes the inductor to catch up with the increased or reduced output current needs. The following formula can be used to calculate the necessary output capacitance for a desired maximum overshoot:\n",
    "\n",
    " \\begin{equation*}\n",
    " C_{OUT(min),OS} = \\frac{\\Delta I_{OUT}^2 *L}{2*V_{OUT}*V_{OS}}\n",
    " \\end{equation*}\n",
    "\n",
    " - $C_{OUT(min),OS}$ = minimum output capacitance for a desired overshoot\n",
    " - $\\Delta I_{OUT}$ = maximum output current change in the application\n",
    " - $V_{OUT}$ = desired output voltage\n",
    " - $V_{OS}$ = desired output voltage change due to the overshoot\n",
    "\n",
    " "
   ]
  },
  {
   "cell_type": "markdown",
   "id": "c9f3064b",
   "metadata": {},
   "source": [
    "\\begin{equation}\n",
    "(a+b)^{2} = a^{2}+2ab+b^{2}\n",
    "\\end{equation}"
   ]
  },
  {
   "cell_type": "markdown",
   "id": "b8924cac",
   "metadata": {},
   "source": [
    "\\begin{equation*}\n",
    "\\mathbf{r} \\equiv \\begin{bmatrix}\n",
    "y \\\\\n",
    "\\theta\n",
    "\\end{bmatrix}\n",
    "\\label{vector_ray}\n",
    "\\end{equation*} \n",
    "\n",
    "Vector **r** is defined by equation $\\ref{vector_ray}$"
   ]
  },
  {
   "cell_type": "code",
   "execution_count": null,
   "id": "716f87f7",
   "metadata": {},
   "outputs": [],
   "source": []
  }
 ],
 "metadata": {
  "kernelspec": {
   "display_name": "Python 3 (ipykernel)",
   "language": "python",
   "name": "python3"
  },
  "language_info": {
   "codemirror_mode": {
    "name": "ipython",
    "version": 3
   },
   "file_extension": ".py",
   "mimetype": "text/x-python",
   "name": "python",
   "nbconvert_exporter": "python",
   "pygments_lexer": "ipython3",
   "version": "3.10.12"
  }
 },
 "nbformat": 4,
 "nbformat_minor": 5
}
